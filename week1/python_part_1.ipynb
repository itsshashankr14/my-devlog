{
 "cells": [
  {
   "cell_type": "code",
   "execution_count": 3,
   "id": "bc81d738-78a0-4246-8e08-051d8dbbcefb",
   "metadata": {},
   "outputs": [
    {
     "name": "stdin",
     "output_type": "stream",
     "text": [
      "Enter the radius :  10\n"
     ]
    },
    {
     "name": "stdout",
     "output_type": "stream",
     "text": [
      "The area of the circle is : 314.0\n"
     ]
    }
   ],
   "source": [
    "radius = float(input(\"Enter the radius : \"))  # Convert input to a float\n",
    "area = 3.14 * radius * radius\n",
    "print(\"The area of the circle is :\", area)  # Fixed typo in 'ogf'"
   ]
  },
  {
   "cell_type": "code",
   "execution_count": 4,
   "id": "1dcd4695-333a-478c-bc19-7006bc28b70f",
   "metadata": {},
   "outputs": [
    {
     "name": "stdout",
     "output_type": "stream",
     "text": [
      "Let's see some examples.\n",
      "\n",
      "Did you notice the empty lines?\n",
      "Do you notice\t the tab space?\n",
      "Did you see that I have moved to next line?\n",
      "Do you want a \" in your text?\n",
      "Are you going to store more info about escape sequence in Z:\\\\user\\escape_sequence.txt??\n",
      "Did you see I start here and I end in the same line although from a different print?\n",
      "As observed escape sequences help you to format your output.\n"
     ]
    }
   ],
   "source": [
    "print(\"Let's see some examples.\\n\\nDid you notice the empty lines?\")\n",
    "print(\"Do you notice\\t the tab space?\\nDid you see that I have moved to next line?\")\n",
    "print(\"Do you want a \\\" in your text?\")\n",
    "print(\"Are you going to store more info about escape sequence in Z:\\\\\\\\user\\\\escape_sequence.txt??\")\n",
    "#Every print starts with a new line, end can change that behavior by specifying your own character\n",
    "print(\"Did you see I start here\", end=\" \")\n",
    "print(\"and I end in the same line although from a different print?\")\n",
    "print(\"As observed escape sequences help you to format your output.\")\n"
   ]
  },
  {
   "cell_type": "code",
   "execution_count": 6,
   "id": "2212a3e3-b953-464f-bb85-16f77c25ed0e",
   "metadata": {},
   "outputs": [
    {
     "name": "stdout",
     "output_type": "stream",
     "text": [
      "________________________________________________________________________\n",
      "BREAD BASKET\n",
      "Looking for a healthy breakfast, this is the place for you!!\n",
      "________________________________________________________________________\n",
      "Raisin Toast$2.50\n",
      "French Toast$2.80\n",
      "Mushroom Toast$3.00\n",
      "Pancake$4.00\n",
      "Pancake with Ice-cream$7.50\n",
      "Chef's speciality$10.00\n",
      "__________________________________________________________________________\n"
     ]
    }
   ],
   "source": [
    "print(\"________________________________________________________________________\")\n",
    "print(\"BREAD BASKET\")\n",
    "print(\"Looking for a healthy breakfast, this is the place for you!!\")\n",
    "print(\"________________________________________________________________________\")\n",
    "print(\"Raisin Toast$2.50\")\n",
    "print(\"French Toast$2.80\")\n",
    "print(\"Mushroom Toast$3.00\")\n",
    "print(\"Pancake$4.00\")\n",
    "print(\"Pancake with Ice-cream$7.50\")\n",
    "print(\"Chef's speciality$10.00\")\n",
    "print(\"__________________________________________________________________________\")\n",
    "                                                    "
   ]
  }
 ],
 "metadata": {
  "kernelspec": {
   "display_name": "Python 3 (ipykernel)",
   "language": "python",
   "name": "python3"
  },
  "language_info": {
   "codemirror_mode": {
    "name": "ipython",
    "version": 3
   },
   "file_extension": ".py",
   "mimetype": "text/x-python",
   "name": "python",
   "nbconvert_exporter": "python",
   "pygments_lexer": "ipython3",
   "version": "3.12.7"
  }
 },
 "nbformat": 4,
 "nbformat_minor": 5
}
